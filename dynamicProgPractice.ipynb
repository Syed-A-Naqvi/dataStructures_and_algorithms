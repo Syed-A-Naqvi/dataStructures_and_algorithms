{
 "cells": [
  {
   "cell_type": "code",
   "execution_count": 5,
   "metadata": {},
   "outputs": [
    {
     "name": "stdout",
     "output_type": "stream",
     "text": [
      "1\n",
      "1\n",
      "2\n",
      "3\n",
      "5\n",
      "8\n",
      "13\n",
      "21\n",
      "34\n"
     ]
    }
   ],
   "source": [
    "def fib(n):\n",
    "    if (n <= 2):\n",
    "        return 1\n",
    "    return fib(n-1) + fib(n-2)\n",
    "\n",
    "#print(fib(5))\n",
    "#print(fib(50))\n",
    "\n",
    "for i in range(1,10):\n",
    "    print(fib(i))"
   ]
  },
  {
   "cell_type": "markdown",
   "metadata": {},
   "source": [
    "- dynaimc programming: overlapping sub problems\n",
    "\n",
    "- with recursion there are often duplicate subtrees along the recursive process indicating redundant calculations\n",
    "\n",
    "- if we can store a single instance of the duplicate values, we can reduce the time complexity since the stored values can be used for future computations instead of having to re-compute\n",
    "\n",
    "- dynamic programming is the name given to this programming style\n",
    "\n",
    "    - the storage of previously computed values (often using nxn matricies) for future use is called memoization"
   ]
  },
  {
   "cell_type": "code",
   "execution_count": 19,
   "metadata": {},
   "outputs": [
    {
     "data": {
      "text/plain": [
       "8"
      ]
     },
     "execution_count": 19,
     "metadata": {},
     "output_type": "execute_result"
    }
   ],
   "source": [
    "# fibonacci using memoization, storing duplicate sub-problems\n",
    "#   we can use dictionaries, key will be the arg to fib, value will be fib number of that arg\n",
    "\n",
    "def fibMemo (n, memo={}):\n",
    "    \n",
    "    if n in memo:\n",
    "        return memo[n]\n",
    "    if n <= 2:\n",
    "        memo[n] = 1\n",
    "        return memo[n]\n",
    "    \n",
    "    memo[n] = fibMemo(n-1, memo) + fibMemo(n-2, memo)\n",
    "    return memo[n]\n",
    "\n",
    "fibMemo(6)"
   ]
  },
  {
   "cell_type": "code",
   "execution_count": 20,
   "metadata": {},
   "outputs": [
    {
     "name": "stdout",
     "output_type": "stream",
     "text": [
      "2333606220\n"
     ]
    }
   ],
   "source": [
    "# implementing grid travelling using memoization and dynamic programming\n",
    "# the traveller can only move down or to the right\n",
    "# count the # of ways to move from the top-left of an mxn grid to the bottom-right\n",
    "\n",
    "def gridTraveller(m,n,memo={}):\n",
    "    \n",
    "    # if we already know the number of ways for the passed grid return it\n",
    "    if((m,n) in memo):\n",
    "        return memo[(m,n)]\n",
    "    \n",
    "    # if either dimensions are 1 then there is only one way to get to the end\n",
    "    # store the dimensions and return the stored value of one\n",
    "    if(m == 1 or n == 1):\n",
    "        memo[(m,n)] = 1\n",
    "        return memo[(m,n)]\n",
    "    \n",
    "    # the number of ways to get from top-left to bottom-right is the number of ways to\n",
    "    # get to the bottom right from the grid (m-1,n) plus the grid (m,n-1)\n",
    "    memo[(m,n)] = gridTraveller(m-1,n, memo) + gridTraveller(m,n-1, memo)\n",
    "    return memo[(m,n)]\n",
    "\n",
    "print(gridTraveller(18,18))\n",
    "\n",
    "# continue at 55:00:00\n",
    "# https://www.youtube.com/watch?v=oBt53YbR9Kk\n",
    "\n",
    "# REALLY IMPORTANT TO PRACTICE AlL OF THE EXAMPLES"
   ]
  },
  {
   "cell_type": "code",
   "execution_count": 4,
   "metadata": {},
   "outputs": [
    {
     "name": "stdout",
     "output_type": "stream",
     "text": [
      "1\n"
     ]
    }
   ],
   "source": []
  }
 ],
 "metadata": {
  "kernelspec": {
   "display_name": "base",
   "language": "python",
   "name": "python3"
  },
  "language_info": {
   "codemirror_mode": {
    "name": "ipython",
    "version": 3
   },
   "file_extension": ".py",
   "mimetype": "text/x-python",
   "name": "python",
   "nbconvert_exporter": "python",
   "pygments_lexer": "ipython3",
   "version": "3.11.4"
  }
 },
 "nbformat": 4,
 "nbformat_minor": 2
}
