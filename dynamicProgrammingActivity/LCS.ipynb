{
 "cells": [
  {
   "cell_type": "code",
   "execution_count": 22,
   "metadata": {},
   "outputs": [],
   "source": [
    "import numpy as np"
   ]
  },
  {
   "cell_type": "code",
   "execution_count": 23,
   "metadata": {},
   "outputs": [],
   "source": [
    "def LCS_Length(X,Y):\n",
    "    \n",
    "    # prepending a dummy character to X and Y so that the characters\n",
    "    # of import begin at indexing 1\n",
    "    X = '.' + X\n",
    "    Y = '.' + Y\n",
    "    \n",
    "    # the new lengths of X and Y will be the number of rows in and cols in 2D array \n",
    "    rows = len(X)\n",
    "    cols = len(Y)\n",
    "    \n",
    "    # initializing an empty 2D array of zeros that will be used to store answers for\n",
    "    # our subproblems\n",
    "    c = np.zeros((rows,cols))\n",
    "    \n",
    "    for i in range(1,rows):\n",
    "        for j in range(1, cols):\n",
    "            \n",
    "            if( X[i] == Y[j]):\n",
    "                c[i,j] = c[i-1,j-1] + 1\n",
    "            else:\n",
    "                c[i,j] = max(c[i-1,j],c[i,j-1])\n",
    "    \n",
    "    # returning the lencth of the longest common subsequence in X and Y\n",
    "    return c[rows-1,cols-1]"
   ]
  },
  {
   "cell_type": "code",
   "execution_count": 24,
   "metadata": {},
   "outputs": [
    {
     "name": "stdout",
     "output_type": "stream",
     "text": [
      "3.0\n"
     ]
    }
   ],
   "source": [
    "print(LCS_Length('ABCB', 'BDCAB'))"
   ]
  }
 ],
 "metadata": {
  "kernelspec": {
   "display_name": "base",
   "language": "python",
   "name": "python3"
  },
  "language_info": {
   "codemirror_mode": {
    "name": "ipython",
    "version": 3
   },
   "file_extension": ".py",
   "mimetype": "text/x-python",
   "name": "python",
   "nbconvert_exporter": "python",
   "pygments_lexer": "ipython3",
   "version": "3.11.4"
  }
 },
 "nbformat": 4,
 "nbformat_minor": 2
}
