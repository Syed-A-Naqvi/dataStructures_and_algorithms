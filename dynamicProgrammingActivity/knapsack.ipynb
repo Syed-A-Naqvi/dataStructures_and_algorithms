{
 "cells": [
  {
   "cell_type": "code",
   "execution_count": 4,
   "metadata": {},
   "outputs": [],
   "source": [
    "import numpy as np"
   ]
  },
  {
   "cell_type": "code",
   "execution_count": 5,
   "metadata": {},
   "outputs": [],
   "source": [
    "def knapsackMaxValue(bag_capacity, items):\n",
    "    \n",
    "    # adding 1 to the max capacity of the bag and the total number of the items so that 2D\n",
    "    # array indexing can begin from 0 with inital row and column of all 0's\n",
    "    W = bag_capacity + 1\n",
    "    I = len(items) + 1\n",
    "    \n",
    "    # creating the memoization 2D array\n",
    "    c = np.zeros((I,W))\n",
    "    \n",
    "    # iterating to the max capacity of the bag, calculating the max possible value for each weight\n",
    "    # (solving and stroing the solutions for each subproblem)\n",
    "    for w in range (1,W):\n",
    "        for i in range(1,I):\n",
    "            if (w >= items[i-1][0]):\n",
    "                c[i,w] = max( c[i-1,w], c[i-1, w - items[i-1][0]] + items[i-1][1])\n",
    "            else:\n",
    "                c[i,w] = c[i-1,w]\n",
    "            \n",
    "    return c[I-1,W-1]"
   ]
  },
  {
   "cell_type": "code",
   "execution_count": 6,
   "metadata": {},
   "outputs": [
    {
     "name": "stdout",
     "output_type": "stream",
     "text": [
      "20.0\n"
     ]
    }
   ],
   "source": [
    "items = [(2,3),\n",
    "         (3,4),\n",
    "         (4,5),\n",
    "         (5,8),\n",
    "         (9,10)]\n",
    "maxWeight = 15\n",
    "\n",
    "print(knapsackMaxValue(maxWeight, items))"
   ]
  }
 ],
 "metadata": {
  "kernelspec": {
   "display_name": "base",
   "language": "python",
   "name": "python3"
  },
  "language_info": {
   "codemirror_mode": {
    "name": "ipython",
    "version": 3
   },
   "file_extension": ".py",
   "mimetype": "text/x-python",
   "name": "python",
   "nbconvert_exporter": "python",
   "pygments_lexer": "ipython3",
   "version": "3.11.4"
  }
 },
 "nbformat": 4,
 "nbformat_minor": 2
}
