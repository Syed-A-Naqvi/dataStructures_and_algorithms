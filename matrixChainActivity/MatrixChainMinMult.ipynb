{
 "cells": [
  {
   "cell_type": "code",
   "execution_count": 2,
   "metadata": {},
   "outputs": [],
   "source": [
    "import numpy as np"
   ]
  },
  {
   "cell_type": "code",
   "execution_count": 3,
   "metadata": {},
   "outputs": [
    {
     "name": "stdout",
     "output_type": "stream",
     "text": [
      "138.0\n"
     ]
    }
   ],
   "source": [
    "def matrix_chain_order(p):\n",
    "    \n",
    "    # the actual number of matrices is one less than the number of dimensions \n",
    "    n = len(p) - 1\n",
    "    \n",
    "    # the first row and column will be redundant, will just contain all zeros\n",
    "    m = np.zeros((n+1,n+1))\n",
    "    s = np.zeros((n+1,n+1))\n",
    "\n",
    "    # this part of the algorithm assigns correct costs to each diagonal of the matrix m as l(chain length) increases \n",
    "    for l in range(2, n+1):\n",
    "        for i in range(1, n-l+2):\n",
    "            j = i + l - 1\n",
    "            # temporarily assigning max value to m[i,j] so that calculated multiplication amounts will always be less\n",
    "            m[i][j] = float('inf')\n",
    "            # finding and storing the optimal k value into the s matrix\n",
    "            # finding and assigning the minimum multiplication cost for multiplying matrices i through j\n",
    "            for k in range(i, j):\n",
    "                q = m[i][k] + m[k+1][j] + p[i-1]*p[k]*p[j]\n",
    "                if q < m[i][j]:\n",
    "                    m[i][j] = q\n",
    "                    s[i][j] = k\n",
    "\n",
    "    return m, s\n",
    "\n",
    "# Test\n",
    "p = [3, 7, 4, 5, 2]\n",
    "m, s = matrix_chain_order(p)\n",
    "print(m[1][len(p)-1])  # Minimum number of multiplications needed"
   ]
  }
 ],
 "metadata": {
  "kernelspec": {
   "display_name": "base",
   "language": "python",
   "name": "python3"
  },
  "language_info": {
   "codemirror_mode": {
    "name": "ipython",
    "version": 3
   },
   "file_extension": ".py",
   "mimetype": "text/x-python",
   "name": "python",
   "nbconvert_exporter": "python",
   "pygments_lexer": "ipython3",
   "version": "3.11.4"
  }
 },
 "nbformat": 4,
 "nbformat_minor": 2
}
